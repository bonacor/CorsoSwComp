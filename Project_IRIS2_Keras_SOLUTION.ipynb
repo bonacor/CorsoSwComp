{
 "cells": [
  {
   "cell_type": "markdown",
   "metadata": {},
   "source": [
    "# <font color='red'>Project IRIS: with Keras+sklearn</font>"
   ]
  },
  {
   "cell_type": "markdown",
   "metadata": {},
   "source": [
    "In this tutorial you will discover **how to use Keras+sklearn to develop and evaluate a NN model for a multiclass classification problem**. \n",
    "\n",
    "Goals:\n",
    "* How to load data from CSV and make it available to Keras\n",
    "* How to prepare multiclass classification data for modeling with NNs\n",
    "* How to evaluate Keras NN models with scikit-learn"
   ]
  },
  {
   "cell_type": "markdown",
   "metadata": {},
   "source": [
    "# Description of the input data"
   ]
  },
  {
   "cell_type": "markdown",
   "metadata": {},
   "source": [
    "The iris flowers dataset is a standard ML dataset, widely used worldwide as benchmark.\n",
    "\n",
    "### Dataset availability:\n",
    "\n",
    "Almost ubiquitous.. e.g.\n",
    "   * [UCI Machine Learning repository](http://archive.ics.uci.edu/ml/machine-learning-databases/iris/iris.data)\n",
    "\n",
    "More info:\n",
    "   * [UCI Machine Learning Repository page](https://archive.ics.uci.edu/ml/datasets/Iris).\n",
    "\n",
    "Alternatively:\n",
    "   * get it from [https://github.com/bonacor/CorsoSwComp](https://github.com/bonacor/CorsoSwComp) by importing into from Google Colab\n",
    "      * direct URL to the dataset: [https://github.com/bonacor/CorsoSwComp/blob/master/iris.data.csv](https://github.com/bonacor/CorsoSwComp/blob/master/iris.data.csv)\n",
    "\n",
    "### Dataset description:\n",
    "\n",
    "* This is a good example to practice on a multiclass classification problem.\n",
    "* Each instance describes the properties of an observed iris flower measurements\n",
    "* All of the 4 input variables are numeric and have the same scale (cm)\n",
    "   * Sepal length in centimeters \n",
    "   * Sepal width in centimeters \n",
    "   * Petal length in centimeters \n",
    "   * Petal width in centimeters\n",
    "* The output variable is a specific iris species (3 possibilities)\n",
    "   * the \"class\", e.g. \"Iris-setosa\", \"Iris-versicolor\" or \"Iris-verginica\"\n",
    "\n",
    "### How the dataset looks like:\n",
    "\n",
    "\n",
    "    5.1,3.5,1.4,0.2,Iris-setosa\n",
    "    4.9,3.0,1.4,0.2,Iris-setosa\n",
    "    4.7,3.2,1.3,0.2,Iris-setosa\n",
    "    4.6,3.1,1.5,0.2,Iris-setosa\n",
    "    5.0,3.6,1.4,0.2,Iris-setosa\n",
    "    (...)\n",
    "\n",
    "\n",
    "### Additional input from best practitioners:\n",
    "\n",
    "The iris flower dataset is a well studied problem and as such we can expect to achieve a model accuracy in the range of 95% to 97%. USe this as target to aim for when developing your model(s)."
   ]
  },
  {
   "cell_type": "markdown",
   "metadata": {},
   "source": [
    "# Start-up"
   ]
  },
  {
   "cell_type": "markdown",
   "metadata": {},
   "source": [
    "## Import Classes and Functions\n",
    "\n",
    "Start by importing all classes and functions you will need:\n",
    "* all the functionality we require from **Keras**\n",
    "* data loading functionalities from **Pandas**\n",
    "* data preparation and model evaluation from **scikit-learn**\n",
    "* more as needed (e.g. **numpy**, **matplotlib**, ..)"
   ]
  },
  {
   "cell_type": "code",
   "execution_count": 1,
   "metadata": {},
   "outputs": [
    {
     "name": "stderr",
     "output_type": "stream",
     "text": [
      "Using TensorFlow backend.\n"
     ]
    }
   ],
   "source": [
    "import numpy\n",
    "# pandas\n",
    "from pandas import read_csv\n",
    "# matplotlib\n",
    "import matplotlib.pyplot as plt\n",
    "%matplotlib inline\n",
    "# keras\n",
    "from keras.models import Sequential\n",
    "from keras.layers import Dense\n",
    "from keras.wrappers.scikit_learn import KerasClassifier\n",
    "from keras.utils import np_utils\n",
    "# sklearn\n",
    "from sklearn.preprocessing import LabelEncoder\n",
    "from sklearn.pipeline import Pipeline\n",
    "from sklearn.model_selection import train_test_split\n",
    "from sklearn.model_selection import cross_val_score\n",
    "from sklearn.model_selection import KFold"
   ]
  },
  {
   "cell_type": "markdown",
   "metadata": {},
   "source": [
    "## Initialize random nb generator\n",
    "\n",
    "Important to ensure that the results we achieve from this model are repeatable, i.e. it ensures that the stochastic process of training a NN model can be reproduced."
   ]
  },
  {
   "cell_type": "code",
   "execution_count": 2,
   "metadata": {},
   "outputs": [],
   "source": [
    "# fix random seed for reproducibility\n",
    "seed = 7\n",
    "numpy.random.seed(seed)"
   ]
  },
  {
   "cell_type": "markdown",
   "metadata": {},
   "source": [
    "## Load The Dataset\n",
    "\n",
    "Download the dataset from the link above and place it in your current working directory, with filename $iris.data.csv$. \n",
    "\n",
    "Then, you can quickly inspect it from this same ipynb."
   ]
  },
  {
   "cell_type": "code",
   "execution_count": 3,
   "metadata": {},
   "outputs": [
    {
     "name": "stdout",
     "output_type": "stream",
     "text": [
      "--2019-05-30 10:53:51--  https://raw.githubusercontent.com/bonacor/CorsoSwComp/master/iris.data.csv\n",
      "Resolving raw.githubusercontent.com... 151.101.240.133\n",
      "Connecting to raw.githubusercontent.com|151.101.240.133|:443... connected.\n",
      "HTTP request sent, awaiting response... 200 OK\n",
      "Length: 4551 (4.4K) [text/plain]\n",
      "Saving to: 'iris.data.csv.3'\n",
      "\n",
      "iris.data.csv.3     100%[===================>]   4.44K  --.-KB/s    in 0s      \n",
      "\n",
      "2019-05-30 10:53:51 (20.1 MB/s) - 'iris.data.csv.3' saved [4551/4551]\n",
      "\n"
     ]
    }
   ],
   "source": [
    "#today, get it from here for example:\n",
    "!wget https://raw.githubusercontent.com/bonacor/CorsoSwComp/master/iris.data.csv"
   ]
  },
  {
   "cell_type": "code",
   "execution_count": 4,
   "metadata": {},
   "outputs": [
    {
     "name": "stdout",
     "output_type": "stream",
     "text": [
      "-rw-r--r--  1 bonacor  staff  4551 May 23 11:03 iris.data.csv\r\n"
     ]
    }
   ],
   "source": [
    "!ls -trl iris.data.csv"
   ]
  },
  {
   "cell_type": "code",
   "execution_count": 5,
   "metadata": {},
   "outputs": [
    {
     "name": "stdout",
     "output_type": "stream",
     "text": [
      "5.1,3.5,1.4,0.2,Iris-setosa\r\n",
      "4.9,3.0,1.4,0.2,Iris-setosa\r\n",
      "4.7,3.2,1.3,0.2,Iris-setosa\r\n",
      "4.6,3.1,1.5,0.2,Iris-setosa\r\n",
      "5.0,3.6,1.4,0.2,Iris-setosa\r\n"
     ]
    }
   ],
   "source": [
    "!head -5 iris.data.csv"
   ]
  },
  {
   "cell_type": "markdown",
   "metadata": {},
   "source": [
    "Now, load the dataset. You can do it in various ways. The output variable contains strings, so it is suggested (easiest) to load the data using **pandas** into a DataFrame. While you do so, split the attributes (i.e. columns) into input variables (the matrix of **features X**) and output variables (the vector **label Y**)."
   ]
  },
  {
   "cell_type": "code",
   "execution_count": 6,
   "metadata": {},
   "outputs": [],
   "source": [
    "# load dataset\n",
    "dataframe = read_csv(\"iris.data.csv\", header=None)\n",
    "dataset = dataframe.values\n",
    "X = dataset[:,0:4].astype(float)   # columns from 1st to 4th into X\n",
    "Y = dataset[:,4]                   # column 5th into Y"
   ]
  },
  {
   "cell_type": "markdown",
   "metadata": {},
   "source": [
    "Verify what you did."
   ]
  },
  {
   "cell_type": "code",
   "execution_count": 7,
   "metadata": {
    "scrolled": true
   },
   "outputs": [
    {
     "data": {
      "text/plain": [
       "150"
      ]
     },
     "execution_count": 7,
     "metadata": {},
     "output_type": "execute_result"
    }
   ],
   "source": [
    "len(X)"
   ]
  },
  {
   "cell_type": "code",
   "execution_count": 8,
   "metadata": {},
   "outputs": [
    {
     "data": {
      "text/plain": [
       "150"
      ]
     },
     "execution_count": 8,
     "metadata": {},
     "output_type": "execute_result"
    }
   ],
   "source": [
    "len(Y)"
   ]
  },
  {
   "cell_type": "code",
   "execution_count": 9,
   "metadata": {},
   "outputs": [
    {
     "data": {
      "text/plain": [
       "array([[5.1, 3.5, 1.4, 0.2],\n",
       "       [4.9, 3. , 1.4, 0.2],\n",
       "       [4.7, 3.2, 1.3, 0.2],\n",
       "       [4.6, 3.1, 1.5, 0.2],\n",
       "       [5. , 3.6, 1.4, 0.2],\n",
       "       [5.4, 3.9, 1.7, 0.4],\n",
       "       [4.6, 3.4, 1.4, 0.3],\n",
       "       [5. , 3.4, 1.5, 0.2],\n",
       "       [4.4, 2.9, 1.4, 0.2],\n",
       "       [4.9, 3.1, 1.5, 0.1],\n",
       "       [5.4, 3.7, 1.5, 0.2],\n",
       "       [4.8, 3.4, 1.6, 0.2],\n",
       "       [4.8, 3. , 1.4, 0.1],\n",
       "       [4.3, 3. , 1.1, 0.1],\n",
       "       [5.8, 4. , 1.2, 0.2],\n",
       "       [5.7, 4.4, 1.5, 0.4],\n",
       "       [5.4, 3.9, 1.3, 0.4],\n",
       "       [5.1, 3.5, 1.4, 0.3],\n",
       "       [5.7, 3.8, 1.7, 0.3],\n",
       "       [5.1, 3.8, 1.5, 0.3],\n",
       "       [5.4, 3.4, 1.7, 0.2],\n",
       "       [5.1, 3.7, 1.5, 0.4],\n",
       "       [4.6, 3.6, 1. , 0.2],\n",
       "       [5.1, 3.3, 1.7, 0.5],\n",
       "       [4.8, 3.4, 1.9, 0.2],\n",
       "       [5. , 3. , 1.6, 0.2],\n",
       "       [5. , 3.4, 1.6, 0.4],\n",
       "       [5.2, 3.5, 1.5, 0.2],\n",
       "       [5.2, 3.4, 1.4, 0.2],\n",
       "       [4.7, 3.2, 1.6, 0.2],\n",
       "       [4.8, 3.1, 1.6, 0.2],\n",
       "       [5.4, 3.4, 1.5, 0.4],\n",
       "       [5.2, 4.1, 1.5, 0.1],\n",
       "       [5.5, 4.2, 1.4, 0.2],\n",
       "       [4.9, 3.1, 1.5, 0.1],\n",
       "       [5. , 3.2, 1.2, 0.2],\n",
       "       [5.5, 3.5, 1.3, 0.2],\n",
       "       [4.9, 3.1, 1.5, 0.1],\n",
       "       [4.4, 3. , 1.3, 0.2],\n",
       "       [5.1, 3.4, 1.5, 0.2],\n",
       "       [5. , 3.5, 1.3, 0.3],\n",
       "       [4.5, 2.3, 1.3, 0.3],\n",
       "       [4.4, 3.2, 1.3, 0.2],\n",
       "       [5. , 3.5, 1.6, 0.6],\n",
       "       [5.1, 3.8, 1.9, 0.4],\n",
       "       [4.8, 3. , 1.4, 0.3],\n",
       "       [5.1, 3.8, 1.6, 0.2],\n",
       "       [4.6, 3.2, 1.4, 0.2],\n",
       "       [5.3, 3.7, 1.5, 0.2],\n",
       "       [5. , 3.3, 1.4, 0.2],\n",
       "       [7. , 3.2, 4.7, 1.4],\n",
       "       [6.4, 3.2, 4.5, 1.5],\n",
       "       [6.9, 3.1, 4.9, 1.5],\n",
       "       [5.5, 2.3, 4. , 1.3],\n",
       "       [6.5, 2.8, 4.6, 1.5],\n",
       "       [5.7, 2.8, 4.5, 1.3],\n",
       "       [6.3, 3.3, 4.7, 1.6],\n",
       "       [4.9, 2.4, 3.3, 1. ],\n",
       "       [6.6, 2.9, 4.6, 1.3],\n",
       "       [5.2, 2.7, 3.9, 1.4],\n",
       "       [5. , 2. , 3.5, 1. ],\n",
       "       [5.9, 3. , 4.2, 1.5],\n",
       "       [6. , 2.2, 4. , 1. ],\n",
       "       [6.1, 2.9, 4.7, 1.4],\n",
       "       [5.6, 2.9, 3.6, 1.3],\n",
       "       [6.7, 3.1, 4.4, 1.4],\n",
       "       [5.6, 3. , 4.5, 1.5],\n",
       "       [5.8, 2.7, 4.1, 1. ],\n",
       "       [6.2, 2.2, 4.5, 1.5],\n",
       "       [5.6, 2.5, 3.9, 1.1],\n",
       "       [5.9, 3.2, 4.8, 1.8],\n",
       "       [6.1, 2.8, 4. , 1.3],\n",
       "       [6.3, 2.5, 4.9, 1.5],\n",
       "       [6.1, 2.8, 4.7, 1.2],\n",
       "       [6.4, 2.9, 4.3, 1.3],\n",
       "       [6.6, 3. , 4.4, 1.4],\n",
       "       [6.8, 2.8, 4.8, 1.4],\n",
       "       [6.7, 3. , 5. , 1.7],\n",
       "       [6. , 2.9, 4.5, 1.5],\n",
       "       [5.7, 2.6, 3.5, 1. ],\n",
       "       [5.5, 2.4, 3.8, 1.1],\n",
       "       [5.5, 2.4, 3.7, 1. ],\n",
       "       [5.8, 2.7, 3.9, 1.2],\n",
       "       [6. , 2.7, 5.1, 1.6],\n",
       "       [5.4, 3. , 4.5, 1.5],\n",
       "       [6. , 3.4, 4.5, 1.6],\n",
       "       [6.7, 3.1, 4.7, 1.5],\n",
       "       [6.3, 2.3, 4.4, 1.3],\n",
       "       [5.6, 3. , 4.1, 1.3],\n",
       "       [5.5, 2.5, 4. , 1.3],\n",
       "       [5.5, 2.6, 4.4, 1.2],\n",
       "       [6.1, 3. , 4.6, 1.4],\n",
       "       [5.8, 2.6, 4. , 1.2],\n",
       "       [5. , 2.3, 3.3, 1. ],\n",
       "       [5.6, 2.7, 4.2, 1.3],\n",
       "       [5.7, 3. , 4.2, 1.2],\n",
       "       [5.7, 2.9, 4.2, 1.3],\n",
       "       [6.2, 2.9, 4.3, 1.3],\n",
       "       [5.1, 2.5, 3. , 1.1],\n",
       "       [5.7, 2.8, 4.1, 1.3],\n",
       "       [6.3, 3.3, 6. , 2.5],\n",
       "       [5.8, 2.7, 5.1, 1.9],\n",
       "       [7.1, 3. , 5.9, 2.1],\n",
       "       [6.3, 2.9, 5.6, 1.8],\n",
       "       [6.5, 3. , 5.8, 2.2],\n",
       "       [7.6, 3. , 6.6, 2.1],\n",
       "       [4.9, 2.5, 4.5, 1.7],\n",
       "       [7.3, 2.9, 6.3, 1.8],\n",
       "       [6.7, 2.5, 5.8, 1.8],\n",
       "       [7.2, 3.6, 6.1, 2.5],\n",
       "       [6.5, 3.2, 5.1, 2. ],\n",
       "       [6.4, 2.7, 5.3, 1.9],\n",
       "       [6.8, 3. , 5.5, 2.1],\n",
       "       [5.7, 2.5, 5. , 2. ],\n",
       "       [5.8, 2.8, 5.1, 2.4],\n",
       "       [6.4, 3.2, 5.3, 2.3],\n",
       "       [6.5, 3. , 5.5, 1.8],\n",
       "       [7.7, 3.8, 6.7, 2.2],\n",
       "       [7.7, 2.6, 6.9, 2.3],\n",
       "       [6. , 2.2, 5. , 1.5],\n",
       "       [6.9, 3.2, 5.7, 2.3],\n",
       "       [5.6, 2.8, 4.9, 2. ],\n",
       "       [7.7, 2.8, 6.7, 2. ],\n",
       "       [6.3, 2.7, 4.9, 1.8],\n",
       "       [6.7, 3.3, 5.7, 2.1],\n",
       "       [7.2, 3.2, 6. , 1.8],\n",
       "       [6.2, 2.8, 4.8, 1.8],\n",
       "       [6.1, 3. , 4.9, 1.8],\n",
       "       [6.4, 2.8, 5.6, 2.1],\n",
       "       [7.2, 3. , 5.8, 1.6],\n",
       "       [7.4, 2.8, 6.1, 1.9],\n",
       "       [7.9, 3.8, 6.4, 2. ],\n",
       "       [6.4, 2.8, 5.6, 2.2],\n",
       "       [6.3, 2.8, 5.1, 1.5],\n",
       "       [6.1, 2.6, 5.6, 1.4],\n",
       "       [7.7, 3. , 6.1, 2.3],\n",
       "       [6.3, 3.4, 5.6, 2.4],\n",
       "       [6.4, 3.1, 5.5, 1.8],\n",
       "       [6. , 3. , 4.8, 1.8],\n",
       "       [6.9, 3.1, 5.4, 2.1],\n",
       "       [6.7, 3.1, 5.6, 2.4],\n",
       "       [6.9, 3.1, 5.1, 2.3],\n",
       "       [5.8, 2.7, 5.1, 1.9],\n",
       "       [6.8, 3.2, 5.9, 2.3],\n",
       "       [6.7, 3.3, 5.7, 2.5],\n",
       "       [6.7, 3. , 5.2, 2.3],\n",
       "       [6.3, 2.5, 5. , 1.9],\n",
       "       [6.5, 3. , 5.2, 2. ],\n",
       "       [6.2, 3.4, 5.4, 2.3],\n",
       "       [5.9, 3. , 5.1, 1.8]])"
      ]
     },
     "execution_count": 9,
     "metadata": {},
     "output_type": "execute_result"
    }
   ],
   "source": [
    "X"
   ]
  },
  {
   "cell_type": "code",
   "execution_count": 10,
   "metadata": {},
   "outputs": [
    {
     "data": {
      "text/plain": [
       "array(['Iris-setosa', 'Iris-setosa', 'Iris-setosa', 'Iris-setosa',\n",
       "       'Iris-setosa', 'Iris-setosa', 'Iris-setosa', 'Iris-setosa',\n",
       "       'Iris-setosa', 'Iris-setosa', 'Iris-setosa', 'Iris-setosa',\n",
       "       'Iris-setosa', 'Iris-setosa', 'Iris-setosa', 'Iris-setosa',\n",
       "       'Iris-setosa', 'Iris-setosa', 'Iris-setosa', 'Iris-setosa',\n",
       "       'Iris-setosa', 'Iris-setosa', 'Iris-setosa', 'Iris-setosa',\n",
       "       'Iris-setosa', 'Iris-setosa', 'Iris-setosa', 'Iris-setosa',\n",
       "       'Iris-setosa', 'Iris-setosa', 'Iris-setosa', 'Iris-setosa',\n",
       "       'Iris-setosa', 'Iris-setosa', 'Iris-setosa', 'Iris-setosa',\n",
       "       'Iris-setosa', 'Iris-setosa', 'Iris-setosa', 'Iris-setosa',\n",
       "       'Iris-setosa', 'Iris-setosa', 'Iris-setosa', 'Iris-setosa',\n",
       "       'Iris-setosa', 'Iris-setosa', 'Iris-setosa', 'Iris-setosa',\n",
       "       'Iris-setosa', 'Iris-setosa', 'Iris-versicolor', 'Iris-versicolor',\n",
       "       'Iris-versicolor', 'Iris-versicolor', 'Iris-versicolor',\n",
       "       'Iris-versicolor', 'Iris-versicolor', 'Iris-versicolor',\n",
       "       'Iris-versicolor', 'Iris-versicolor', 'Iris-versicolor',\n",
       "       'Iris-versicolor', 'Iris-versicolor', 'Iris-versicolor',\n",
       "       'Iris-versicolor', 'Iris-versicolor', 'Iris-versicolor',\n",
       "       'Iris-versicolor', 'Iris-versicolor', 'Iris-versicolor',\n",
       "       'Iris-versicolor', 'Iris-versicolor', 'Iris-versicolor',\n",
       "       'Iris-versicolor', 'Iris-versicolor', 'Iris-versicolor',\n",
       "       'Iris-versicolor', 'Iris-versicolor', 'Iris-versicolor',\n",
       "       'Iris-versicolor', 'Iris-versicolor', 'Iris-versicolor',\n",
       "       'Iris-versicolor', 'Iris-versicolor', 'Iris-versicolor',\n",
       "       'Iris-versicolor', 'Iris-versicolor', 'Iris-versicolor',\n",
       "       'Iris-versicolor', 'Iris-versicolor', 'Iris-versicolor',\n",
       "       'Iris-versicolor', 'Iris-versicolor', 'Iris-versicolor',\n",
       "       'Iris-versicolor', 'Iris-versicolor', 'Iris-versicolor',\n",
       "       'Iris-versicolor', 'Iris-versicolor', 'Iris-versicolor',\n",
       "       'Iris-virginica', 'Iris-virginica', 'Iris-virginica',\n",
       "       'Iris-virginica', 'Iris-virginica', 'Iris-virginica',\n",
       "       'Iris-virginica', 'Iris-virginica', 'Iris-virginica',\n",
       "       'Iris-virginica', 'Iris-virginica', 'Iris-virginica',\n",
       "       'Iris-virginica', 'Iris-virginica', 'Iris-virginica',\n",
       "       'Iris-virginica', 'Iris-virginica', 'Iris-virginica',\n",
       "       'Iris-virginica', 'Iris-virginica', 'Iris-virginica',\n",
       "       'Iris-virginica', 'Iris-virginica', 'Iris-virginica',\n",
       "       'Iris-virginica', 'Iris-virginica', 'Iris-virginica',\n",
       "       'Iris-virginica', 'Iris-virginica', 'Iris-virginica',\n",
       "       'Iris-virginica', 'Iris-virginica', 'Iris-virginica',\n",
       "       'Iris-virginica', 'Iris-virginica', 'Iris-virginica',\n",
       "       'Iris-virginica', 'Iris-virginica', 'Iris-virginica',\n",
       "       'Iris-virginica', 'Iris-virginica', 'Iris-virginica',\n",
       "       'Iris-virginica', 'Iris-virginica', 'Iris-virginica',\n",
       "       'Iris-virginica', 'Iris-virginica', 'Iris-virginica',\n",
       "       'Iris-virginica', 'Iris-virginica'], dtype=object)"
      ]
     },
     "execution_count": 10,
     "metadata": {},
     "output_type": "execute_result"
    }
   ],
   "source": [
    "Y"
   ]
  },
  {
   "cell_type": "markdown",
   "metadata": {},
   "source": [
    "# Data preparation/preprocessing"
   ]
  },
  {
   "cell_type": "markdown",
   "metadata": {},
   "source": [
    "## One-hot encoding the output variable"
   ]
  },
  {
   "cell_type": "markdown",
   "metadata": {},
   "source": [
    "*(NOTE: different datasets may require different data manipulation/preprocessing. This applies to this specific case)*\n",
    "\n",
    "When modeling multiclass classification problems using NNs it is practice to reshape the output attribute from a vector that contains values for each class value to a matrix with a boolean for each class value and whether or not a given instance has that class value or not. \n",
    "\n",
    "In my case, the output variable contains 3 different class (string) values, i.e. I can have one of each of these 3 observations:\n",
    "\n",
    "    Iris-setosa\n",
    "    Iris-versicolor\n",
    "    Iris-virginica\n",
    "    \n",
    "I translate this into a one hot encoded binary matrix for each data instance among these 3:\n",
    "\n",
    "    Iris-setosa, Iris-versicolor, Iris-virginica\n",
    "\n",
    "\n",
    "that would hence look as follows:\n",
    "\n",
    "    1, 0, 0\n",
    "    0, 1, 0\n",
    "    0, 0, 1\n",
    "    \n",
    "We can do this easily by:\n",
    "   1. encoding the strings consistently to integers using the scikit-learn class *LabelEncoder*\n",
    "   2. convert the vector of integers to a one-hot encoding using the Keras function *to_categorical()*"
   ]
  },
  {
   "cell_type": "code",
   "execution_count": 11,
   "metadata": {},
   "outputs": [],
   "source": [
    "# part 1: encode class values as integers\n",
    "encoder = LabelEncoder()\n",
    "encoder.fit(Y)\n",
    "encoded_Y = encoder.transform(Y)"
   ]
  },
  {
   "cell_type": "markdown",
   "metadata": {},
   "source": [
    "Check:"
   ]
  },
  {
   "cell_type": "code",
   "execution_count": 12,
   "metadata": {},
   "outputs": [
    {
     "data": {
      "text/plain": [
       "LabelEncoder()"
      ]
     },
     "execution_count": 12,
     "metadata": {},
     "output_type": "execute_result"
    }
   ],
   "source": [
    "encoder"
   ]
  },
  {
   "cell_type": "code",
   "execution_count": 13,
   "metadata": {},
   "outputs": [
    {
     "data": {
      "text/plain": [
       "array([0, 0, 0, 0, 0, 0, 0, 0, 0, 0, 0, 0, 0, 0, 0, 0, 0, 0, 0, 0, 0, 0,\n",
       "       0, 0, 0, 0, 0, 0, 0, 0, 0, 0, 0, 0, 0, 0, 0, 0, 0, 0, 0, 0, 0, 0,\n",
       "       0, 0, 0, 0, 0, 0, 1, 1, 1, 1, 1, 1, 1, 1, 1, 1, 1, 1, 1, 1, 1, 1,\n",
       "       1, 1, 1, 1, 1, 1, 1, 1, 1, 1, 1, 1, 1, 1, 1, 1, 1, 1, 1, 1, 1, 1,\n",
       "       1, 1, 1, 1, 1, 1, 1, 1, 1, 1, 1, 1, 2, 2, 2, 2, 2, 2, 2, 2, 2, 2,\n",
       "       2, 2, 2, 2, 2, 2, 2, 2, 2, 2, 2, 2, 2, 2, 2, 2, 2, 2, 2, 2, 2, 2,\n",
       "       2, 2, 2, 2, 2, 2, 2, 2, 2, 2, 2, 2, 2, 2, 2, 2, 2, 2])"
      ]
     },
     "execution_count": 13,
     "metadata": {},
     "output_type": "execute_result"
    }
   ],
   "source": [
    "encoded_Y"
   ]
  },
  {
   "cell_type": "code",
   "execution_count": 14,
   "metadata": {},
   "outputs": [],
   "source": [
    "# part 2: do one-hot encoding\n",
    "transformed_Y = np_utils.to_categorical(encoded_Y)"
   ]
  },
  {
   "cell_type": "code",
   "execution_count": 15,
   "metadata": {},
   "outputs": [
    {
     "data": {
      "text/plain": [
       "array([[1., 0., 0.],\n",
       "       [1., 0., 0.],\n",
       "       [1., 0., 0.],\n",
       "       [1., 0., 0.],\n",
       "       [1., 0., 0.],\n",
       "       [1., 0., 0.],\n",
       "       [1., 0., 0.],\n",
       "       [1., 0., 0.],\n",
       "       [1., 0., 0.],\n",
       "       [1., 0., 0.],\n",
       "       [1., 0., 0.],\n",
       "       [1., 0., 0.],\n",
       "       [1., 0., 0.],\n",
       "       [1., 0., 0.],\n",
       "       [1., 0., 0.],\n",
       "       [1., 0., 0.],\n",
       "       [1., 0., 0.],\n",
       "       [1., 0., 0.],\n",
       "       [1., 0., 0.],\n",
       "       [1., 0., 0.],\n",
       "       [1., 0., 0.],\n",
       "       [1., 0., 0.],\n",
       "       [1., 0., 0.],\n",
       "       [1., 0., 0.],\n",
       "       [1., 0., 0.],\n",
       "       [1., 0., 0.],\n",
       "       [1., 0., 0.],\n",
       "       [1., 0., 0.],\n",
       "       [1., 0., 0.],\n",
       "       [1., 0., 0.],\n",
       "       [1., 0., 0.],\n",
       "       [1., 0., 0.],\n",
       "       [1., 0., 0.],\n",
       "       [1., 0., 0.],\n",
       "       [1., 0., 0.],\n",
       "       [1., 0., 0.],\n",
       "       [1., 0., 0.],\n",
       "       [1., 0., 0.],\n",
       "       [1., 0., 0.],\n",
       "       [1., 0., 0.],\n",
       "       [1., 0., 0.],\n",
       "       [1., 0., 0.],\n",
       "       [1., 0., 0.],\n",
       "       [1., 0., 0.],\n",
       "       [1., 0., 0.],\n",
       "       [1., 0., 0.],\n",
       "       [1., 0., 0.],\n",
       "       [1., 0., 0.],\n",
       "       [1., 0., 0.],\n",
       "       [1., 0., 0.],\n",
       "       [0., 1., 0.],\n",
       "       [0., 1., 0.],\n",
       "       [0., 1., 0.],\n",
       "       [0., 1., 0.],\n",
       "       [0., 1., 0.],\n",
       "       [0., 1., 0.],\n",
       "       [0., 1., 0.],\n",
       "       [0., 1., 0.],\n",
       "       [0., 1., 0.],\n",
       "       [0., 1., 0.],\n",
       "       [0., 1., 0.],\n",
       "       [0., 1., 0.],\n",
       "       [0., 1., 0.],\n",
       "       [0., 1., 0.],\n",
       "       [0., 1., 0.],\n",
       "       [0., 1., 0.],\n",
       "       [0., 1., 0.],\n",
       "       [0., 1., 0.],\n",
       "       [0., 1., 0.],\n",
       "       [0., 1., 0.],\n",
       "       [0., 1., 0.],\n",
       "       [0., 1., 0.],\n",
       "       [0., 1., 0.],\n",
       "       [0., 1., 0.],\n",
       "       [0., 1., 0.],\n",
       "       [0., 1., 0.],\n",
       "       [0., 1., 0.],\n",
       "       [0., 1., 0.],\n",
       "       [0., 1., 0.],\n",
       "       [0., 1., 0.],\n",
       "       [0., 1., 0.],\n",
       "       [0., 1., 0.],\n",
       "       [0., 1., 0.],\n",
       "       [0., 1., 0.],\n",
       "       [0., 1., 0.],\n",
       "       [0., 1., 0.],\n",
       "       [0., 1., 0.],\n",
       "       [0., 1., 0.],\n",
       "       [0., 1., 0.],\n",
       "       [0., 1., 0.],\n",
       "       [0., 1., 0.],\n",
       "       [0., 1., 0.],\n",
       "       [0., 1., 0.],\n",
       "       [0., 1., 0.],\n",
       "       [0., 1., 0.],\n",
       "       [0., 1., 0.],\n",
       "       [0., 1., 0.],\n",
       "       [0., 1., 0.],\n",
       "       [0., 1., 0.],\n",
       "       [0., 1., 0.],\n",
       "       [0., 0., 1.],\n",
       "       [0., 0., 1.],\n",
       "       [0., 0., 1.],\n",
       "       [0., 0., 1.],\n",
       "       [0., 0., 1.],\n",
       "       [0., 0., 1.],\n",
       "       [0., 0., 1.],\n",
       "       [0., 0., 1.],\n",
       "       [0., 0., 1.],\n",
       "       [0., 0., 1.],\n",
       "       [0., 0., 1.],\n",
       "       [0., 0., 1.],\n",
       "       [0., 0., 1.],\n",
       "       [0., 0., 1.],\n",
       "       [0., 0., 1.],\n",
       "       [0., 0., 1.],\n",
       "       [0., 0., 1.],\n",
       "       [0., 0., 1.],\n",
       "       [0., 0., 1.],\n",
       "       [0., 0., 1.],\n",
       "       [0., 0., 1.],\n",
       "       [0., 0., 1.],\n",
       "       [0., 0., 1.],\n",
       "       [0., 0., 1.],\n",
       "       [0., 0., 1.],\n",
       "       [0., 0., 1.],\n",
       "       [0., 0., 1.],\n",
       "       [0., 0., 1.],\n",
       "       [0., 0., 1.],\n",
       "       [0., 0., 1.],\n",
       "       [0., 0., 1.],\n",
       "       [0., 0., 1.],\n",
       "       [0., 0., 1.],\n",
       "       [0., 0., 1.],\n",
       "       [0., 0., 1.],\n",
       "       [0., 0., 1.],\n",
       "       [0., 0., 1.],\n",
       "       [0., 0., 1.],\n",
       "       [0., 0., 1.],\n",
       "       [0., 0., 1.],\n",
       "       [0., 0., 1.],\n",
       "       [0., 0., 1.],\n",
       "       [0., 0., 1.],\n",
       "       [0., 0., 1.],\n",
       "       [0., 0., 1.],\n",
       "       [0., 0., 1.],\n",
       "       [0., 0., 1.],\n",
       "       [0., 0., 1.],\n",
       "       [0., 0., 1.],\n",
       "       [0., 0., 1.]])"
      ]
     },
     "execution_count": 15,
     "metadata": {},
     "output_type": "execute_result"
    }
   ],
   "source": [
    "transformed_Y"
   ]
  },
  {
   "cell_type": "markdown",
   "metadata": {},
   "source": [
    "# Define a NN model"
   ]
  },
  {
   "cell_type": "markdown",
   "metadata": {},
   "source": [
    "## Create a baseline model\n",
    "\n",
    "You can create a baseline NN - a simple **Fully Connected NN (FCNN)** - for the IRIS multiclass classification problem with just one function:\n",
    "   * input\n",
    "       * as per our input dataset, this NN has 4 inputs (X)\n",
    "   * hidden layer(s)\n",
    "       * the hidden layer here has 8 nodes, and uses a rectifier (**relu**) activation function, which is a good practice\n",
    "   * output\n",
    "       * because we used a one-hot encoding for the dataset, the output layer must create 3 output values, one for each class. We use a **softmax** activation function in the output layer, to ensure the output values are in the range of 0 and 1 and may be used as predicted probabilities: the output value with the largest value will be taken as the class predicted by the model. Finally, the network uses the efficient **adam** GD optimization algorithm with a **logarithmic loss function**, which is called **categorical crossentropy** in Keras.   \n",
    "   \n",
    "Hence, the network topology of this simple 1-layer FCNN can be summarized as:\n",
    "\n",
    "    4 inputs -> 1 hidden layer with 8 nodes -> 3 outputs\n",
    "\n",
    "and it simplementation in Keras is as simple as follows:"
   ]
  },
  {
   "cell_type": "code",
   "execution_count": 16,
   "metadata": {
    "scrolled": true
   },
   "outputs": [
    {
     "name": "stdout",
     "output_type": "stream",
     "text": [
      "Epoch 1/100\n",
      "150/150 [==============================] - 0s - loss: 1.2464 - acc: 0.3333     \n",
      "Epoch 2/100\n",
      "150/150 [==============================] - 0s - loss: 1.1843 - acc: 0.3333     \n",
      "Epoch 3/100\n",
      "150/150 [==============================] - 0s - loss: 1.1170 - acc: 0.4533     \n",
      "Epoch 4/100\n",
      "150/150 [==============================] - 0s - loss: 1.0669 - acc: 0.6200     \n",
      "Epoch 5/100\n",
      "150/150 [==============================] - 0s - loss: 1.0332 - acc: 0.6600     \n",
      "Epoch 6/100\n",
      "150/150 [==============================] - 0s - loss: 1.0088 - acc: 0.6600     \n",
      "Epoch 7/100\n",
      "150/150 [==============================] - 0s - loss: 0.9881 - acc: 0.6600     \n",
      "Epoch 8/100\n",
      "150/150 [==============================] - 0s - loss: 0.9697 - acc: 0.6600     \n",
      "Epoch 9/100\n",
      "150/150 [==============================] - 0s - loss: 0.9508 - acc: 0.6600     \n",
      "Epoch 10/100\n",
      "150/150 [==============================] - 0s - loss: 0.9319 - acc: 0.6600     \n",
      "Epoch 11/100\n",
      "150/150 [==============================] - 0s - loss: 0.9130 - acc: 0.6600     \n",
      "Epoch 12/100\n",
      "150/150 [==============================] - 0s - loss: 0.8939 - acc: 0.6600     \n",
      "Epoch 13/100\n",
      "150/150 [==============================] - 0s - loss: 0.8748 - acc: 0.6600     \n",
      "Epoch 14/100\n",
      "150/150 [==============================] - 0s - loss: 0.8557 - acc: 0.6600     \n",
      "Epoch 15/100\n",
      "150/150 [==============================] - 0s - loss: 0.8369 - acc: 0.6600     \n",
      "Epoch 16/100\n",
      "150/150 [==============================] - 0s - loss: 0.8182 - acc: 0.6667     \n",
      "Epoch 17/100\n",
      "150/150 [==============================] - 0s - loss: 0.7988 - acc: 0.6667     \n",
      "Epoch 18/100\n",
      "150/150 [==============================] - 0s - loss: 0.7802 - acc: 0.6667     \n",
      "Epoch 19/100\n",
      "150/150 [==============================] - 0s - loss: 0.7625 - acc: 0.6667     \n",
      "Epoch 20/100\n",
      "150/150 [==============================] - 0s - loss: 0.7445 - acc: 0.6667     \n",
      "Epoch 21/100\n",
      "150/150 [==============================] - ETA: 0s - loss: 0.7307 - acc: 0.700 - 0s - loss: 0.7262 - acc: 0.6667     \n",
      "Epoch 22/100\n",
      "150/150 [==============================] - 0s - loss: 0.7086 - acc: 0.6733     \n",
      "Epoch 23/100\n",
      "150/150 [==============================] - 0s - loss: 0.6932 - acc: 0.6800     \n",
      "Epoch 24/100\n",
      "150/150 [==============================] - 0s - loss: 0.6766 - acc: 0.6867     \n",
      "Epoch 25/100\n",
      "150/150 [==============================] - 0s - loss: 0.6620 - acc: 0.6800     \n",
      "Epoch 26/100\n",
      "150/150 [==============================] - 0s - loss: 0.6483 - acc: 0.6933     \n",
      "Epoch 27/100\n",
      "150/150 [==============================] - 0s - loss: 0.6339 - acc: 0.7067     \n",
      "Epoch 28/100\n",
      "150/150 [==============================] - 0s - loss: 0.6212 - acc: 0.7067     \n",
      "Epoch 29/100\n",
      "150/150 [==============================] - 0s - loss: 0.6098 - acc: 0.7267     \n",
      "Epoch 30/100\n",
      "150/150 [==============================] - 0s - loss: 0.5973 - acc: 0.7333     \n",
      "Epoch 31/100\n",
      "150/150 [==============================] - 0s - loss: 0.5867 - acc: 0.7200     \n",
      "Epoch 32/100\n",
      "150/150 [==============================] - 0s - loss: 0.5764 - acc: 0.7200     \n",
      "Epoch 33/100\n",
      "150/150 [==============================] - 0s - loss: 0.5661 - acc: 0.7133     \n",
      "Epoch 34/100\n",
      "150/150 [==============================] - 0s - loss: 0.5578 - acc: 0.7200     \n",
      "Epoch 35/100\n",
      "150/150 [==============================] - 0s - loss: 0.5476 - acc: 0.7800     \n",
      "Epoch 36/100\n",
      "150/150 [==============================] - 0s - loss: 0.5392 - acc: 0.8000     \n",
      "Epoch 37/100\n",
      "150/150 [==============================] - 0s - loss: 0.5323 - acc: 0.8333     \n",
      "Epoch 38/100\n",
      "150/150 [==============================] - 0s - loss: 0.5228 - acc: 0.8000     \n",
      "Epoch 39/100\n",
      "150/150 [==============================] - 0s - loss: 0.5168 - acc: 0.7667     \n",
      "Epoch 40/100\n",
      "150/150 [==============================] - 0s - loss: 0.5093 - acc: 0.7933     \n",
      "Epoch 41/100\n",
      "150/150 [==============================] - 0s - loss: 0.5030 - acc: 0.7933     \n",
      "Epoch 42/100\n",
      "150/150 [==============================] - 0s - loss: 0.4963 - acc: 0.8067     \n",
      "Epoch 43/100\n",
      "150/150 [==============================] - 0s - loss: 0.4910 - acc: 0.8267     \n",
      "Epoch 44/100\n",
      "150/150 [==============================] - 0s - loss: 0.4850 - acc: 0.8933     \n",
      "Epoch 45/100\n",
      "150/150 [==============================] - 0s - loss: 0.4789 - acc: 0.8733     \n",
      "Epoch 46/100\n",
      "150/150 [==============================] - 0s - loss: 0.4730 - acc: 0.8533     \n",
      "Epoch 47/100\n",
      "150/150 [==============================] - 0s - loss: 0.4677 - acc: 0.8733     \n",
      "Epoch 48/100\n",
      "150/150 [==============================] - 0s - loss: 0.4628 - acc: 0.8800     \n",
      "Epoch 49/100\n",
      "150/150 [==============================] - 0s - loss: 0.4580 - acc: 0.8867     \n",
      "Epoch 50/100\n",
      "150/150 [==============================] - 0s - loss: 0.4535 - acc: 0.8867     \n",
      "Epoch 51/100\n",
      "150/150 [==============================] - 0s - loss: 0.4489 - acc: 0.9133     \n",
      "Epoch 52/100\n",
      "150/150 [==============================] - 0s - loss: 0.4446 - acc: 0.8933     \n",
      "Epoch 53/100\n",
      "150/150 [==============================] - 0s - loss: 0.4400 - acc: 0.8800     \n",
      "Epoch 54/100\n",
      "150/150 [==============================] - 0s - loss: 0.4354 - acc: 0.9067     \n",
      "Epoch 55/100\n",
      "150/150 [==============================] - 0s - loss: 0.4331 - acc: 0.9333     \n",
      "Epoch 56/100\n",
      "150/150 [==============================] - 0s - loss: 0.4276 - acc: 0.9133     \n",
      "Epoch 57/100\n",
      "150/150 [==============================] - 0s - loss: 0.4246 - acc: 0.9200     \n",
      "Epoch 58/100\n",
      "150/150 [==============================] - 0s - loss: 0.4196 - acc: 0.9267     \n",
      "Epoch 59/100\n",
      "150/150 [==============================] - 0s - loss: 0.4159 - acc: 0.9267     \n",
      "Epoch 60/100\n",
      "150/150 [==============================] - 0s - loss: 0.4125 - acc: 0.9400     \n",
      "Epoch 61/100\n",
      "150/150 [==============================] - 0s - loss: 0.4086 - acc: 0.9400     \n",
      "Epoch 62/100\n",
      "150/150 [==============================] - 0s - loss: 0.4096 - acc: 0.9267     \n",
      "Epoch 63/100\n",
      "150/150 [==============================] - 0s - loss: 0.4011 - acc: 0.9400     \n",
      "Epoch 64/100\n",
      "150/150 [==============================] - 0s - loss: 0.3986 - acc: 0.9333     \n",
      "Epoch 65/100\n",
      "150/150 [==============================] - 0s - loss: 0.3954 - acc: 0.9400     \n",
      "Epoch 66/100\n",
      "150/150 [==============================] - 0s - loss: 0.3913 - acc: 0.9333     \n",
      "Epoch 67/100\n",
      "150/150 [==============================] - 0s - loss: 0.3881 - acc: 0.9333     \n",
      "Epoch 68/100\n",
      "150/150 [==============================] - 0s - loss: 0.3850 - acc: 0.9400     \n",
      "Epoch 69/100\n",
      "150/150 [==============================] - 0s - loss: 0.3826 - acc: 0.9333     \n",
      "Epoch 70/100\n",
      "150/150 [==============================] - 0s - loss: 0.3783 - acc: 0.9467     \n",
      "Epoch 71/100\n",
      "150/150 [==============================] - 0s - loss: 0.3749 - acc: 0.9533     \n",
      "Epoch 72/100\n",
      "150/150 [==============================] - 0s - loss: 0.3715 - acc: 0.9400     \n",
      "Epoch 73/100\n",
      "150/150 [==============================] - 0s - loss: 0.3688 - acc: 0.9600     \n",
      "Epoch 74/100\n",
      "150/150 [==============================] - 0s - loss: 0.3653 - acc: 0.9400     \n",
      "Epoch 75/100\n",
      "150/150 [==============================] - 0s - loss: 0.3623 - acc: 0.9533     \n",
      "Epoch 76/100\n",
      "150/150 [==============================] - 0s - loss: 0.3590 - acc: 0.9533     \n",
      "Epoch 77/100\n",
      "150/150 [==============================] - 0s - loss: 0.3579 - acc: 0.9600     \n",
      "Epoch 78/100\n",
      "150/150 [==============================] - 0s - loss: 0.3533 - acc: 0.9533     \n",
      "Epoch 79/100\n",
      "150/150 [==============================] - 0s - loss: 0.3511 - acc: 0.9467     \n",
      "Epoch 80/100\n",
      "150/150 [==============================] - 0s - loss: 0.3494 - acc: 0.9400     \n",
      "Epoch 81/100\n",
      "150/150 [==============================] - 0s - loss: 0.3434 - acc: 0.9600     \n",
      "Epoch 82/100\n",
      "150/150 [==============================] - 0s - loss: 0.3413 - acc: 0.9600     \n",
      "Epoch 83/100\n",
      "150/150 [==============================] - 0s - loss: 0.3376 - acc: 0.9667     \n",
      "Epoch 84/100\n",
      "150/150 [==============================] - 0s - loss: 0.3352 - acc: 0.9533     \n",
      "Epoch 85/100\n",
      "150/150 [==============================] - 0s - loss: 0.3345 - acc: 0.9533     \n",
      "Epoch 86/100\n",
      "150/150 [==============================] - 0s - loss: 0.3285 - acc: 0.9600     \n",
      "Epoch 87/100\n",
      "150/150 [==============================] - 0s - loss: 0.3267 - acc: 0.9600     \n",
      "Epoch 88/100\n"
     ]
    },
    {
     "name": "stdout",
     "output_type": "stream",
     "text": [
      "150/150 [==============================] - 0s - loss: 0.3230 - acc: 0.9600     \n",
      "Epoch 89/100\n",
      "150/150 [==============================] - 0s - loss: 0.3222 - acc: 0.9600     \n",
      "Epoch 90/100\n",
      "150/150 [==============================] - 0s - loss: 0.3177 - acc: 0.9600     \n",
      "Epoch 91/100\n",
      "150/150 [==============================] - 0s - loss: 0.3147 - acc: 0.9667     \n",
      "Epoch 92/100\n",
      "150/150 [==============================] - 0s - loss: 0.3117 - acc: 0.9667     \n",
      "Epoch 93/100\n",
      "150/150 [==============================] - 0s - loss: 0.3092 - acc: 0.9600     \n",
      "Epoch 94/100\n",
      "150/150 [==============================] - 0s - loss: 0.3065 - acc: 0.9600     \n",
      "Epoch 95/100\n",
      "150/150 [==============================] - 0s - loss: 0.3064 - acc: 0.9533     \n",
      "Epoch 96/100\n",
      "150/150 [==============================] - 0s - loss: 0.3015 - acc: 0.9667     \n",
      "Epoch 97/100\n",
      "150/150 [==============================] - 0s - loss: 0.2984 - acc: 0.9667     \n",
      "Epoch 98/100\n",
      "150/150 [==============================] - 0s - loss: 0.2954 - acc: 0.9667     \n",
      "Epoch 99/100\n",
      "150/150 [==============================] - 0s - loss: 0.2941 - acc: 0.9667     \n",
      "Epoch 100/100\n",
      "150/150 [==============================] - 0s - loss: 0.2903 - acc: 0.9667     \n"
     ]
    }
   ],
   "source": [
    "# create model\n",
    "model = Sequential()\n",
    "model.add(Dense(8, input_dim=4, activation='relu'))\n",
    "model.add(Dense(3, activation='softmax'))\n",
    "# Compile model\n",
    "model.compile(loss='categorical_crossentropy', optimizer='adam', metrics=['accuracy'])\n",
    "###\n",
    "#baseline_model()\n",
    "###\n",
    "#my_model = baseline_model()\n",
    "#0 history=model.fit(X, Y, epochs=10)\n",
    "#1 history=model.fit(X, transformed_Y, epochs=10)\n",
    "#2 history=model.fit(X, transformed_Y, epochs=100)\n",
    "#3 history=model.fit(X, transformed_Y, epochs=1000)\n",
    "#4 history=model.fit(X, transformed_Y, epochs=100, batch_size=32)\n",
    "#5 \n",
    "history=model.fit(X, transformed_Y, epochs=100, batch_size=10)"
   ]
  },
  {
   "cell_type": "code",
   "execution_count": 17,
   "metadata": {},
   "outputs": [
    {
     "name": "stdout",
     "output_type": "stream",
     "text": [
      "_________________________________________________________________\n",
      "Layer (type)                 Output Shape              Param #   \n",
      "=================================================================\n",
      "dense_1 (Dense)              (None, 8)                 40        \n",
      "_________________________________________________________________\n",
      "dense_2 (Dense)              (None, 3)                 27        \n",
      "=================================================================\n",
      "Total params: 67\n",
      "Trainable params: 67\n",
      "Non-trainable params: 0\n",
      "_________________________________________________________________\n"
     ]
    }
   ],
   "source": [
    "model.summary()"
   ]
  },
  {
   "cell_type": "code",
   "execution_count": 18,
   "metadata": {},
   "outputs": [
    {
     "data": {
      "text/plain": [
       "[<matplotlib.lines.Line2D at 0x1c2eaadf90>]"
      ]
     },
     "execution_count": 18,
     "metadata": {},
     "output_type": "execute_result"
    },
    {
     "data": {
      "image/png": "[encoded data removed]",
      "text/plain": [
       "<Figure size 432x288 with 1 Axes>"
      ]
     },
     "metadata": {
      "needs_background": "light"
     },
     "output_type": "display_data"
    }
   ],
   "source": [
    "my_variable=history.history[\"acc\"]\n",
    "plt.plot(range(len(my_variable)),my_variable)"
   ]
  },
  {
   "cell_type": "markdown",
   "metadata": {},
   "source": [
    "## Train-Test splitting"
   ]
  },
  {
   "cell_type": "code",
   "execution_count": 19,
   "metadata": {},
   "outputs": [],
   "source": [
    "X_train, X_test, Y_train, Y_test = train_test_split(X, transformed_Y, test_size=0.2, random_state=seed)"
   ]
  },
  {
   "cell_type": "code",
   "execution_count": 20,
   "metadata": {},
   "outputs": [
    {
     "name": "stdout",
     "output_type": "stream",
     "text": [
      "Train on 120 samples, validate on 30 samples\n",
      "Epoch 1/100\n",
      "120/120 [==============================] - 0s - loss: 1.4535 - acc: 0.3583 - val_loss: 1.4348 - val_acc: 0.2333\n",
      "Epoch 2/100\n",
      "120/120 [==============================] - 0s - loss: 1.2491 - acc: 0.3583 - val_loss: 1.2337 - val_acc: 0.2333\n",
      "Epoch 3/100\n",
      "120/120 [==============================] - 0s - loss: 1.0960 - acc: 0.3833 - val_loss: 1.0879 - val_acc: 0.5333\n",
      "Epoch 4/100\n",
      "120/120 [==============================] - 0s - loss: 0.9890 - acc: 0.6083 - val_loss: 0.9820 - val_acc: 0.6333\n",
      "Epoch 5/100\n",
      "120/120 [==============================] - 0s - loss: 0.9105 - acc: 0.6750 - val_loss: 0.9154 - val_acc: 0.6333\n",
      "Epoch 6/100\n",
      "120/120 [==============================] - 0s - loss: 0.8575 - acc: 0.6750 - val_loss: 0.8732 - val_acc: 0.5333\n",
      "Epoch 7/100\n",
      "120/120 [==============================] - 0s - loss: 0.8210 - acc: 0.8083 - val_loss: 0.8471 - val_acc: 0.6667\n",
      "Epoch 8/100\n",
      "120/120 [==============================] - 0s - loss: 0.7946 - acc: 0.7417 - val_loss: 0.8266 - val_acc: 0.6000\n",
      "Epoch 9/100\n",
      "120/120 [==============================] - 0s - loss: 0.7704 - acc: 0.6833 - val_loss: 0.8080 - val_acc: 0.6000\n",
      "Epoch 10/100\n",
      "120/120 [==============================] - 0s - loss: 0.7516 - acc: 0.6833 - val_loss: 0.7942 - val_acc: 0.6000\n",
      "Epoch 11/100\n",
      "120/120 [==============================] - 0s - loss: 0.7308 - acc: 0.6833 - val_loss: 0.7790 - val_acc: 0.6000\n",
      "Epoch 12/100\n",
      "120/120 [==============================] - 0s - loss: 0.7123 - acc: 0.6833 - val_loss: 0.7628 - val_acc: 0.6000\n",
      "Epoch 13/100\n",
      "120/120 [==============================] - 0s - loss: 0.6947 - acc: 0.6833 - val_loss: 0.7475 - val_acc: 0.6000\n",
      "Epoch 14/100\n",
      "120/120 [==============================] - 0s - loss: 0.6796 - acc: 0.6833 - val_loss: 0.7354 - val_acc: 0.6000\n",
      "Epoch 15/100\n",
      "120/120 [==============================] - 0s - loss: 0.6629 - acc: 0.6833 - val_loss: 0.7211 - val_acc: 0.6000\n",
      "Epoch 16/100\n",
      "120/120 [==============================] - 0s - loss: 0.6488 - acc: 0.6833 - val_loss: 0.7098 - val_acc: 0.6000\n",
      "Epoch 17/100\n",
      "120/120 [==============================] - 0s - loss: 0.6338 - acc: 0.6833 - val_loss: 0.6960 - val_acc: 0.6000\n",
      "Epoch 18/100\n",
      "120/120 [==============================] - 0s - loss: 0.6203 - acc: 0.7000 - val_loss: 0.6862 - val_acc: 0.6000\n",
      "Epoch 19/100\n",
      "120/120 [==============================] - 0s - loss: 0.6073 - acc: 0.7000 - val_loss: 0.6756 - val_acc: 0.6000\n",
      "Epoch 20/100\n",
      "120/120 [==============================] - 0s - loss: 0.5952 - acc: 0.7083 - val_loss: 0.6628 - val_acc: 0.6000\n",
      "Epoch 21/100\n",
      "120/120 [==============================] - ETA: 0s - loss: 0.5013 - acc: 0.800 - 0s - loss: 0.5832 - acc: 0.7167 - val_loss: 0.6538 - val_acc: 0.6000\n",
      "Epoch 22/100\n",
      "120/120 [==============================] - 0s - loss: 0.5725 - acc: 0.7417 - val_loss: 0.6420 - val_acc: 0.6333\n",
      "Epoch 23/100\n",
      "120/120 [==============================] - 0s - loss: 0.5606 - acc: 0.7583 - val_loss: 0.6348 - val_acc: 0.6000\n",
      "Epoch 24/100\n",
      "120/120 [==============================] - 0s - loss: 0.5510 - acc: 0.7667 - val_loss: 0.6240 - val_acc: 0.6667\n",
      "Epoch 25/100\n",
      "120/120 [==============================] - 0s - loss: 0.5407 - acc: 0.7667 - val_loss: 0.6176 - val_acc: 0.6333\n",
      "Epoch 26/100\n",
      "120/120 [==============================] - 0s - loss: 0.5304 - acc: 0.8000 - val_loss: 0.6085 - val_acc: 0.6667\n",
      "Epoch 27/100\n",
      "120/120 [==============================] - 0s - loss: 0.5210 - acc: 0.8333 - val_loss: 0.6010 - val_acc: 0.6667\n",
      "Epoch 28/100\n",
      "120/120 [==============================] - 0s - loss: 0.5121 - acc: 0.8417 - val_loss: 0.5919 - val_acc: 0.7000\n",
      "Epoch 29/100\n",
      "120/120 [==============================] - 0s - loss: 0.5029 - acc: 0.8417 - val_loss: 0.5837 - val_acc: 0.7000\n",
      "Epoch 30/100\n",
      "120/120 [==============================] - 0s - loss: 0.4940 - acc: 0.8417 - val_loss: 0.5755 - val_acc: 0.7000\n",
      "Epoch 31/100\n",
      "120/120 [==============================] - 0s - loss: 0.4864 - acc: 0.8500 - val_loss: 0.5691 - val_acc: 0.7000\n",
      "Epoch 32/100\n",
      "120/120 [==============================] - 0s - loss: 0.4768 - acc: 0.8583 - val_loss: 0.5605 - val_acc: 0.7333\n",
      "Epoch 33/100\n",
      "120/120 [==============================] - 0s - loss: 0.4679 - acc: 0.8917 - val_loss: 0.5519 - val_acc: 0.7667\n",
      "Epoch 34/100\n",
      "120/120 [==============================] - 0s - loss: 0.4600 - acc: 0.9000 - val_loss: 0.5437 - val_acc: 0.7667\n",
      "Epoch 35/100\n",
      "120/120 [==============================] - 0s - loss: 0.4529 - acc: 0.9000 - val_loss: 0.5373 - val_acc: 0.7667\n",
      "Epoch 36/100\n",
      "120/120 [==============================] - 0s - loss: 0.4466 - acc: 0.9333 - val_loss: 0.5278 - val_acc: 0.8000\n",
      "Epoch 37/100\n",
      "120/120 [==============================] - 0s - loss: 0.4385 - acc: 0.9333 - val_loss: 0.5232 - val_acc: 0.8000\n",
      "Epoch 38/100\n",
      "120/120 [==============================] - 0s - loss: 0.4323 - acc: 0.9333 - val_loss: 0.5177 - val_acc: 0.8000\n",
      "Epoch 39/100\n",
      "120/120 [==============================] - 0s - loss: 0.4266 - acc: 0.9333 - val_loss: 0.5135 - val_acc: 0.8000\n",
      "Epoch 40/100\n",
      "120/120 [==============================] - 0s - loss: 0.4208 - acc: 0.9333 - val_loss: 0.5082 - val_acc: 0.8000\n",
      "Epoch 41/100\n",
      "120/120 [==============================] - 0s - loss: 0.4164 - acc: 0.9500 - val_loss: 0.5023 - val_acc: 0.8333\n",
      "Epoch 42/100\n",
      "120/120 [==============================] - 0s - loss: 0.4106 - acc: 0.9417 - val_loss: 0.4990 - val_acc: 0.8333\n",
      "Epoch 43/100\n",
      "120/120 [==============================] - 0s - loss: 0.4057 - acc: 0.9500 - val_loss: 0.4935 - val_acc: 0.8333\n",
      "Epoch 44/100\n",
      "120/120 [==============================] - 0s - loss: 0.4001 - acc: 0.9500 - val_loss: 0.4898 - val_acc: 0.8333\n",
      "Epoch 45/100\n",
      "120/120 [==============================] - 0s - loss: 0.3956 - acc: 0.9583 - val_loss: 0.4848 - val_acc: 0.8333\n",
      "Epoch 46/100\n",
      "120/120 [==============================] - 0s - loss: 0.3914 - acc: 0.9750 - val_loss: 0.4793 - val_acc: 0.8333\n",
      "Epoch 47/100\n",
      "120/120 [==============================] - 0s - loss: 0.3856 - acc: 0.9750 - val_loss: 0.4767 - val_acc: 0.8333\n",
      "Epoch 48/100\n",
      "120/120 [==============================] - 0s - loss: 0.3825 - acc: 0.9583 - val_loss: 0.4726 - val_acc: 0.8333\n",
      "Epoch 49/100\n",
      "120/120 [==============================] - 0s - loss: 0.3770 - acc: 0.9750 - val_loss: 0.4684 - val_acc: 0.8333\n",
      "Epoch 50/100\n",
      "120/120 [==============================] - 0s - loss: 0.3727 - acc: 0.9583 - val_loss: 0.4666 - val_acc: 0.8333\n",
      "Epoch 51/100\n",
      "120/120 [==============================] - 0s - loss: 0.3688 - acc: 0.9583 - val_loss: 0.4613 - val_acc: 0.8333\n",
      "Epoch 52/100\n",
      "120/120 [==============================] - 0s - loss: 0.3639 - acc: 0.9750 - val_loss: 0.4576 - val_acc: 0.8333\n",
      "Epoch 53/100\n",
      "120/120 [==============================] - 0s - loss: 0.3597 - acc: 0.9750 - val_loss: 0.4532 - val_acc: 0.8667\n",
      "Epoch 54/100\n",
      "120/120 [==============================] - 0s - loss: 0.3566 - acc: 0.9750 - val_loss: 0.4515 - val_acc: 0.8333\n",
      "Epoch 55/100\n",
      "120/120 [==============================] - 0s - loss: 0.3525 - acc: 0.9667 - val_loss: 0.4468 - val_acc: 0.8667\n",
      "Epoch 56/100\n",
      "120/120 [==============================] - 0s - loss: 0.3474 - acc: 0.9833 - val_loss: 0.4423 - val_acc: 0.8667\n",
      "Epoch 57/100\n",
      "120/120 [==============================] - 0s - loss: 0.3438 - acc: 0.9833 - val_loss: 0.4382 - val_acc: 0.8667\n",
      "Epoch 58/100\n",
      "120/120 [==============================] - 0s - loss: 0.3406 - acc: 0.9833 - val_loss: 0.4339 - val_acc: 0.9000\n",
      "Epoch 59/100\n",
      "120/120 [==============================] - 0s - loss: 0.3363 - acc: 0.9833 - val_loss: 0.4318 - val_acc: 0.8667\n",
      "Epoch 60/100\n",
      "120/120 [==============================] - 0s - loss: 0.3332 - acc: 0.9833 - val_loss: 0.4283 - val_acc: 0.8667\n",
      "Epoch 61/100\n",
      "120/120 [==============================] - 0s - loss: 0.3292 - acc: 0.9833 - val_loss: 0.4265 - val_acc: 0.8667\n",
      "Epoch 62/100\n",
      "120/120 [==============================] - 0s - loss: 0.3256 - acc: 0.9833 - val_loss: 0.4218 - val_acc: 0.8667\n",
      "Epoch 63/100\n",
      "120/120 [==============================] - 0s - loss: 0.3225 - acc: 0.9833 - val_loss: 0.4208 - val_acc: 0.8667\n",
      "Epoch 64/100\n",
      "120/120 [==============================] - 0s - loss: 0.3187 - acc: 0.9833 - val_loss: 0.4173 - val_acc: 0.8667\n",
      "Epoch 65/100\n"
     ]
    },
    {
     "name": "stdout",
     "output_type": "stream",
     "text": [
      "120/120 [==============================] - 0s - loss: 0.3150 - acc: 0.9833 - val_loss: 0.4119 - val_acc: 0.9000\n",
      "Epoch 66/100\n",
      "120/120 [==============================] - 0s - loss: 0.3118 - acc: 0.9833 - val_loss: 0.4098 - val_acc: 0.9000\n",
      "Epoch 67/100\n",
      "120/120 [==============================] - 0s - loss: 0.3084 - acc: 0.9833 - val_loss: 0.4057 - val_acc: 0.9000\n",
      "Epoch 68/100\n",
      "120/120 [==============================] - 0s - loss: 0.3050 - acc: 0.9833 - val_loss: 0.4048 - val_acc: 0.8667\n",
      "Epoch 69/100\n",
      "120/120 [==============================] - 0s - loss: 0.3022 - acc: 0.9833 - val_loss: 0.4015 - val_acc: 0.8667\n",
      "Epoch 70/100\n",
      "120/120 [==============================] - 0s - loss: 0.2984 - acc: 0.9833 - val_loss: 0.3967 - val_acc: 0.9000\n",
      "Epoch 71/100\n",
      "120/120 [==============================] - 0s - loss: 0.2955 - acc: 0.9917 - val_loss: 0.3935 - val_acc: 0.9000\n",
      "Epoch 72/100\n",
      "120/120 [==============================] - 0s - loss: 0.2923 - acc: 0.9917 - val_loss: 0.3922 - val_acc: 0.9000\n",
      "Epoch 73/100\n",
      "120/120 [==============================] - 0s - loss: 0.2891 - acc: 0.9833 - val_loss: 0.3894 - val_acc: 0.9000\n",
      "Epoch 74/100\n",
      "120/120 [==============================] - 0s - loss: 0.2864 - acc: 0.9917 - val_loss: 0.3860 - val_acc: 0.9000\n",
      "Epoch 75/100\n",
      "120/120 [==============================] - 0s - loss: 0.2835 - acc: 0.9833 - val_loss: 0.3854 - val_acc: 0.8667\n",
      "Epoch 76/100\n",
      "120/120 [==============================] - 0s - loss: 0.2802 - acc: 0.9917 - val_loss: 0.3802 - val_acc: 0.9000\n",
      "Epoch 77/100\n",
      "120/120 [==============================] - 0s - loss: 0.2774 - acc: 0.9833 - val_loss: 0.3774 - val_acc: 0.9000\n",
      "Epoch 78/100\n",
      "120/120 [==============================] - 0s - loss: 0.2750 - acc: 0.9833 - val_loss: 0.3729 - val_acc: 0.8667\n",
      "Epoch 79/100\n",
      "120/120 [==============================] - 0s - loss: 0.2713 - acc: 0.9917 - val_loss: 0.3719 - val_acc: 0.9000\n",
      "Epoch 80/100\n",
      "120/120 [==============================] - 0s - loss: 0.2685 - acc: 0.9917 - val_loss: 0.3699 - val_acc: 0.9000\n",
      "Epoch 81/100\n",
      "120/120 [==============================] - 0s - loss: 0.2663 - acc: 0.9833 - val_loss: 0.3704 - val_acc: 0.9000\n",
      "Epoch 82/100\n",
      "120/120 [==============================] - 0s - loss: 0.2635 - acc: 0.9833 - val_loss: 0.3661 - val_acc: 0.9000\n",
      "Epoch 83/100\n",
      "120/120 [==============================] - 0s - loss: 0.2603 - acc: 0.9833 - val_loss: 0.3604 - val_acc: 0.9000\n",
      "Epoch 84/100\n",
      "120/120 [==============================] - 0s - loss: 0.2584 - acc: 0.9917 - val_loss: 0.3568 - val_acc: 0.9000\n",
      "Epoch 85/100\n",
      "120/120 [==============================] - 0s - loss: 0.2552 - acc: 0.9833 - val_loss: 0.3560 - val_acc: 0.8667\n",
      "Epoch 86/100\n",
      "120/120 [==============================] - 0s - loss: 0.2526 - acc: 0.9917 - val_loss: 0.3558 - val_acc: 0.9000\n",
      "Epoch 87/100\n",
      "120/120 [==============================] - 0s - loss: 0.2503 - acc: 0.9917 - val_loss: 0.3517 - val_acc: 0.8667\n",
      "Epoch 88/100\n",
      "120/120 [==============================] - 0s - loss: 0.2482 - acc: 0.9917 - val_loss: 0.3492 - val_acc: 0.8667\n",
      "Epoch 89/100\n",
      "120/120 [==============================] - 0s - loss: 0.2453 - acc: 0.9917 - val_loss: 0.3471 - val_acc: 0.8667\n",
      "Epoch 90/100\n",
      "120/120 [==============================] - 0s - loss: 0.2424 - acc: 0.9917 - val_loss: 0.3454 - val_acc: 0.9000\n",
      "Epoch 91/100\n",
      "120/120 [==============================] - 0s - loss: 0.2413 - acc: 0.9833 - val_loss: 0.3455 - val_acc: 0.9000\n",
      "Epoch 92/100\n",
      "120/120 [==============================] - 0s - loss: 0.2384 - acc: 0.9750 - val_loss: 0.3384 - val_acc: 0.9000\n",
      "Epoch 93/100\n",
      "120/120 [==============================] - 0s - loss: 0.2354 - acc: 0.9833 - val_loss: 0.3367 - val_acc: 0.9000\n",
      "Epoch 94/100\n",
      "120/120 [==============================] - 0s - loss: 0.2332 - acc: 0.9917 - val_loss: 0.3356 - val_acc: 0.9000\n",
      "Epoch 95/100\n",
      "120/120 [==============================] - 0s - loss: 0.2309 - acc: 0.9833 - val_loss: 0.3334 - val_acc: 0.9000\n",
      "Epoch 96/100\n",
      "120/120 [==============================] - 0s - loss: 0.2286 - acc: 0.9917 - val_loss: 0.3328 - val_acc: 0.9000\n",
      "Epoch 97/100\n",
      "120/120 [==============================] - 0s - loss: 0.2265 - acc: 0.9833 - val_loss: 0.3311 - val_acc: 0.9000\n",
      "Epoch 98/100\n",
      "120/120 [==============================] - 0s - loss: 0.2253 - acc: 0.9833 - val_loss: 0.3267 - val_acc: 0.9000\n",
      "Epoch 99/100\n",
      "120/120 [==============================] - 0s - loss: 0.2218 - acc: 0.9833 - val_loss: 0.3249 - val_acc: 0.9000\n",
      "Epoch 100/100\n",
      "120/120 [==============================] - 0s - loss: 0.2198 - acc: 0.9833 - val_loss: 0.3228 - val_acc: 0.9000\n"
     ]
    }
   ],
   "source": [
    "# create model\n",
    "model = Sequential()\n",
    "model.add(Dense(8, input_dim=4, activation='relu'))\n",
    "model.add(Dense(3, activation='softmax'))\n",
    "# Compile model\n",
    "model.compile(loss='categorical_crossentropy', optimizer='adam', metrics=['accuracy'])\n",
    "###\n",
    "#baseline_model()\n",
    "###\n",
    "#my_model = baseline_model()\n",
    "#0 history=model.fit(X_train, Y_train, epochs=10, validation_data=(X_test,Y_test))\n",
    "#1 history=model.fit(X_train, Y_train, epochs=10, validation_data=(X_test,Y_test))\n",
    "#2 history=model.fit(X_train, Y_train, epochs=100, validation_data=(X_test,Y_test))\n",
    "#3 history=model.fit(X_train, Y_train, epochs=1000, validation_data=(X_test,Y_test))\n",
    "#4 history=model.fit(X_train, Y_train, epochs=100, validation_data=(X_test,Y_test), batch_size=32)\n",
    "#5 \n",
    "history=model.fit(X_train, Y_train, epochs=100, validation_data=(X_test,Y_test), batch_size=10)"
   ]
  },
  {
   "cell_type": "code",
   "execution_count": 21,
   "metadata": {},
   "outputs": [
    {
     "data": {
      "text/plain": [
       "<matplotlib.legend.Legend at 0x1c2f3d2ad0>"
      ]
     },
     "execution_count": 21,
     "metadata": {},
     "output_type": "execute_result"
    },
    {
     "data": {
      "image/png": "[encoded data removed]",
      "text/plain": [
       "<Figure size 432x288 with 1 Axes>"
      ]
     },
     "metadata": {
      "needs_background": "light"
     },
     "output_type": "display_data"
    }
   ],
   "source": [
    "variable1=history.history[\"loss\"]\n",
    "variable2=history.history[\"val_loss\"]\n",
    "plt.plot(range(len(variable1)),variable1, label='loss')\n",
    "plt.plot(range(len(variable2)),variable2, label='val_loss')\n",
    "plt.legend()"
   ]
  },
  {
   "cell_type": "code",
   "execution_count": 22,
   "metadata": {},
   "outputs": [
    {
     "name": "stdout",
     "output_type": "stream",
     "text": [
      "_________________________________________________________________\n",
      "Layer (type)                 Output Shape              Param #   \n",
      "=================================================================\n",
      "dense_3 (Dense)              (None, 8)                 40        \n",
      "_________________________________________________________________\n",
      "dense_4 (Dense)              (None, 3)                 27        \n",
      "=================================================================\n",
      "Total params: 67\n",
      "Trainable params: 67\n",
      "Non-trainable params: 0\n",
      "_________________________________________________________________\n"
     ]
    }
   ],
   "source": [
    "model.summary()"
   ]
  },
  {
   "cell_type": "markdown",
   "metadata": {},
   "source": [
    "# Exercise 1 (difficulty: easy)"
   ]
  },
  {
   "cell_type": "markdown",
   "metadata": {},
   "source": [
    "Repeat the same using only the last 100 entries of the dataset.\n",
    "   * Are you able to understand how the problem is modified by this choice, and which code changes are necessary to make this notebook work still?\n",
    "   * Are you able to interpret the results you get?"
   ]
  },
  {
   "cell_type": "markdown",
   "metadata": {},
   "source": [
    "# Exercise 2 (difficulty: moderate)"
   ]
  },
  {
   "cell_type": "markdown",
   "metadata": {},
   "source": [
    "## Use KerasClassifier\n",
    "\n",
    "\n",
    "The idea here is to use the Keras library which provides wrapper classes to allow you to use NN models developed with Keras (see cell above) in scikit-learn. Why so? Because Keras is simple, and scikit-learn is powerful and versatile!\n",
    "\n",
    "There is a *KerasClassifier* class in Keras that can be used as an *Estimator* in scikit-learn, the base type of model in the library. We need to actually create our KerasClassifier first, to be used in scikit-learn. KerasClassifier takes the name of a function (the one we wrote above) as an argument, plus arguments that will be passed on to the *fit()* function internally used to train the NN. Here, we pass:\n",
    "\n",
    "* a number of epochs as 200\n",
    "* a batch size as 5 \n",
    "\n",
    "to use when training the model. Debugging is also turned off when training by setting verbose to 0.\n",
    "    \n",
    "This function returns the constructed NN model, ready for training.\n",
    "\n",
    "Hint: https://keras.io/scikit-learn-api/"
   ]
  },
  {
   "cell_type": "code",
   "execution_count": 23,
   "metadata": {},
   "outputs": [],
   "source": [
    "# define a baseline model\n",
    "def baseline_model():\n",
    "    # create model\n",
    "    model = Sequential()\n",
    "    model.add(Dense(8, input_dim=4, activation='relu'))\n",
    "    model.add(Dense(3, activation='softmax'))\n",
    "    # Compile model\n",
    "    model.compile(loss='categorical_crossentropy', optimizer='adam', metrics=['accuracy'])\n",
    "    return model"
   ]
  },
  {
   "cell_type": "code",
   "execution_count": 24,
   "metadata": {},
   "outputs": [],
   "source": [
    "estimator = KerasClassifier(build_fn=baseline_model, epochs=200, batch_size=5, verbose=0)"
   ]
  },
  {
   "cell_type": "code",
   "execution_count": 25,
   "metadata": {},
   "outputs": [
    {
     "data": {
      "text/plain": [
       "<keras.wrappers.scikit_learn.KerasClassifier at 0x1c2f3e1cd0>"
      ]
     },
     "execution_count": 25,
     "metadata": {},
     "output_type": "execute_result"
    }
   ],
   "source": [
    "estimator"
   ]
  },
  {
   "cell_type": "markdown",
   "metadata": {},
   "source": [
    "## Evaluate The Model with $k$-Fold Cross-Validation\n",
    "\n",
    "It is time to evaluate our NN model on our training data, a.k.a. the \"training\" phase.\n",
    "\n",
    "The scikit-learn library has excellent capability to evaluate models using a suite of techniques. The gold standard for evaluating ML models is **k-fold cross-validation (k-fold CV)**. We do as follows:\n",
    "\n",
    "1. we define the model evaluation procedure.\n",
    "      * here, we shuffle the data before partitioning it, and we set the number of folds to 10 (a good default)\n",
    "     \n",
    "     \n",
    "2. we evaluate our model (*estimator*) on our dataset (*X* and *transformed_Y*) using a 10-fold CV procedure (kfold)\n",
    "\n",
    "Evaluating the model only takes approximately 10 seconds and returns an object that describes the evaluation of the k=10 constructed models for each of the splits of the dataset. \n",
    "\n",
    "The results are summarized as both the mean and standard deviation of the model accuracy on the dataset."
   ]
  },
  {
   "cell_type": "code",
   "execution_count": 26,
   "metadata": {},
   "outputs": [],
   "source": [
    "# part 1\n",
    "kfold = KFold(n_splits=10, shuffle=True, random_state=seed)"
   ]
  },
  {
   "cell_type": "code",
   "execution_count": 27,
   "metadata": {},
   "outputs": [
    {
     "name": "stdout",
     "output_type": "stream",
     "text": [
      "Accuracy: 97.33% (4.42%)\n"
     ]
    }
   ],
   "source": [
    "# part 2\n",
    "results = cross_val_score(estimator, X, transformed_Y, cv=kfold)\n",
    "print(\"Accuracy: %.2f%% (%.2f%%)\" % (results.mean()*100, results.std()*100))"
   ]
  },
  {
   "cell_type": "markdown",
   "metadata": {},
   "source": [
    "This is a reasonable estimation of the performance of the model on unseen data. It is also within the realm of known top results for this problem."
   ]
  },
  {
   "cell_type": "markdown",
   "metadata": {},
   "source": [
    "# Summary \n",
    "\n",
    "What we learned:\n",
    "\n",
    "* how to develop and evaluate a NN using the Keras library for ML/DL.\n",
    "\n",
    "Specifically:\n",
    "\n",
    "* How to load data and make it available to Keras\n",
    "* How to prepare multiclass classification data for modeling using one hot encoding\n",
    "* How to use Keras NN models with scikit-learn\n",
    "* How to define a NN using Keras for multiclass classification\n",
    "* How to evaluate a Keras NN model using scikit-learn with k-fold cross-validation"
   ]
  }
 ],
 "metadata": {
  "kernelspec": {
   "display_name": "Python 2",
   "language": "python",
   "name": "python2"
  },
  "language_info": {
   "codemirror_mode": {
    "name": "ipython",
    "version": 2
   },
   "file_extension": ".py",
   "mimetype": "text/x-python",
   "name": "python",
   "nbconvert_exporter": "python",
   "pygments_lexer": "ipython2",
   "version": "2.7.16"
  }
 },
 "nbformat": 4,
 "nbformat_minor": 2
}
